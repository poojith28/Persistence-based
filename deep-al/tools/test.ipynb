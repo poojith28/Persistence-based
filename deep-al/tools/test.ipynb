{
 "cells": [
  {
   "cell_type": "code",
   "execution_count": 1,
   "metadata": {},
   "outputs": [
    {
     "name": "stdout",
     "output_type": "stream",
     "text": [
      "Experiment Directory is /vast/s219110279/TypiClust/output/CIFAR10/resnet18/most_repeated_effective_death_b50_100R_5.\n",
      "\n",
      "\n",
      "======== PREPARING DATA AND MODEL ========\n",
      "\n",
      "Dataset provided: CIFAR10\n",
      "Preprocess Operations Selected ==>  [RandomCrop(size=(32, 32), padding=4), RandomHorizontalFlip(p=0.5), ToTensor(), Normalize(mean=[0.4914, 0.4822, 0.4465], std=[0.247, 0.2435, 0.2616])]\n",
      "Files already downloaded and verified\n",
      "Dataset provided: CIFAR10\n",
      "Files already downloaded and verified\n",
      "\n",
      "Dataset CIFAR10 Loaded Sucessfully.\n",
      "Total Train Size: 50000 and Total Test Size: 10000\n",
      "\n",
      "Traceback (most recent call last):\n",
      "  File \"/vast/s219110279/TypiClust/deep-al/tools/train_al.py\", line 659, in <module>\n",
      "    main(cfg)\n",
      "  File \"/vast/s219110279/TypiClust/deep-al/tools/train_al.py\", line 157, in main\n",
      "    model = model_builder.build_model(cfg).cuda()\n",
      "  File \"/home/s219110279/.conda/envs/typiclust/lib/python3.7/site-packages/torch/nn/modules/module.py\", line 749, in cuda\n",
      "    return self._apply(lambda t: t.cuda(device))\n",
      "  File \"/home/s219110279/.conda/envs/typiclust/lib/python3.7/site-packages/torch/nn/modules/module.py\", line 641, in _apply\n",
      "    module._apply(fn)\n",
      "  File \"/home/s219110279/.conda/envs/typiclust/lib/python3.7/site-packages/torch/nn/modules/module.py\", line 664, in _apply\n",
      "    param_applied = fn(param)\n",
      "  File \"/home/s219110279/.conda/envs/typiclust/lib/python3.7/site-packages/torch/nn/modules/module.py\", line 749, in <lambda>\n",
      "    return self._apply(lambda t: t.cuda(device))\n",
      "  File \"/home/s219110279/.conda/envs/typiclust/lib/python3.7/site-packages/torch/cuda/__init__.py\", line 229, in _lazy_init\n",
      "    torch._C._cuda_init()\n",
      "RuntimeError: Found no NVIDIA driver on your system. Please check that you have an NVIDIA GPU and installed a driver from http://www.nvidia.com/Download/index.aspx\n"
     ]
    }
   ],
   "source": [
    "\n",
    "\n",
    "\n",
    "!python /vast/s219110279/TypiClust/deep-al/tools/train_al.py --cfg=../configs/cifar10/al/RESNET18.yaml --budget=50 --al=most_repeated_effective_death --initial_size=0 --exp-name=most_repeated_effective_death_b50_100R_5\n"
   ]
  },
  {
   "cell_type": "code",
   "execution_count": null,
   "metadata": {},
   "outputs": [],
   "source": []
  }
 ],
 "metadata": {
  "kernelspec": {
   "display_name": "typiclust",
   "language": "python",
   "name": "python3"
  },
  "language_info": {
   "codemirror_mode": {
    "name": "ipython",
    "version": 3
   },
   "file_extension": ".py",
   "mimetype": "text/x-python",
   "name": "python",
   "nbconvert_exporter": "python",
   "pygments_lexer": "ipython3",
   "version": "3.7.12"
  }
 },
 "nbformat": 4,
 "nbformat_minor": 2
}
